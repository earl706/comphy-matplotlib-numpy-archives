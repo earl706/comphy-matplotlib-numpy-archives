{
 "cells": [
  {
   "cell_type": "code",
   "execution_count": 9,
   "id": "8b01aa85-7efa-4b50-a8de-3c83e4c0aecb",
   "metadata": {},
   "outputs": [
    {
     "name": "stdout",
     "output_type": "stream",
     "text": [
      "Determinant: -1\n",
      "Determinant of x: 396\n",
      "Determinant of y: 577\n",
      "Determinant of z: -225\n",
      "Value of x: -396.0\n",
      "Value of y: -577.0\n",
      "Value of z: 225.0\n"
     ]
    }
   ],
   "source": [
    "m = [\n",
    "    [2, -1, 1],\n",
    "    [-3, 4, 5],\n",
    "    [9, -5, 3],\n",
    "]\n",
    "\n",
    "d = [10, 5, -4]\n",
    "\n",
    "m_x = [ \n",
    "    [d[0],-1,1],\n",
    "    [d[1],4,5],\n",
    "    [d[2],-5,3]\n",
    "]\n",
    "\n",
    "m_y = [ \n",
    "    [2,d[0],1],\n",
    "    [-3,d[1],5],\n",
    "    [9,d[2],3]\n",
    "]\n",
    "\n",
    "m_z = [ \n",
    "    [2,-1,d[0]],\n",
    "    [-3,4,d[1]],\n",
    "    [9,-5,d[2]]\n",
    "]\n",
    "\n",
    "matrix_determinant = (m[0][0]*((m[1][1]*m[2][2])-(m[1][2]*m[2][1])))-(m[0][1]*((m[1][0]*m[2][2])-(m[2][0]*m[1][2])))+(m[0][2]*((m[1][0]*m[2][1])-(m[1][1]*m[2][0])))\n",
    "print(f\"Determinant: {matrix_determinant}\")\n",
    "x_determinant = (m_x[0][0]*((m_x[1][1]*m_x[2][2])-(m_x[1][2]*m_x[2][1])))-(m_x[0][1]*((m_x[1][0]*m_x[2][2])-(m_x[2][0]*m_x[1][2])))+(m_x[0][2]*((m_x[1][0]*m_x[2][1])-(m_x[1][1]*m_x[2][0])))\n",
    "y_determinant = (m_y[0][0]*((m_y[1][1]*m_y[2][2])-(m_y[1][2]*m_y[2][1])))-(m_y[0][1]*((m_y[1][0]*m_y[2][2])-(m_y[2][0]*m_y[1][2])))+(m_y[0][2]*((m_y[1][0]*m_y[2][1])-(m_y[1][1]*m_y[2][0])))\n",
    "z_determinant = (m_z[0][0]*((m_z[1][1]*m_z[2][2])-(m_z[1][2]*m_z[2][1])))-(m_z[0][1]*((m_z[1][0]*m_z[2][2])-(m_z[2][0]*m_z[1][2])))+(m_z[0][2]*((m_z[1][0]*m_z[2][1])-(m_z[1][1]*m_z[2][0])))\n",
    "\n",
    "print(f\"Determinant of x: {x_determinant}\")\n",
    "print(f\"Determinant of y: {y_determinant}\")\n",
    "print(f\"Determinant of z: {z_determinant}\")\n",
    "\n",
    "x = x_determinant/matrix_determinant\n",
    "y = y_determinant/matrix_determinant\n",
    "z = z_determinant/matrix_determinant\n",
    "\n",
    "print(f\"Value of x: {x}\")\n",
    "print(f\"Value of y: {y}\")\n",
    "print(f\"Value of z: {z}\")\n"
   ]
  },
  {
   "cell_type": "code",
   "execution_count": 12,
   "id": "ba3b8dd4-0642-4fc0-b146-e6d6c5f5fe8f",
   "metadata": {},
   "outputs": [
    {
     "name": "stdout",
     "output_type": "stream",
     "text": [
      "Separate each value with a comma (e.g. 1,2,3)\n"
     ]
    },
    {
     "name": "stdin",
     "output_type": "stream",
     "text": [
      "Enter the coefficients for x:  2,-3,9\n",
      "Enter the coefficients for y:  -1,4,-5\n",
      "Enter the coefficients for z:  1,5,3\n",
      "Enter the constants:  10,5,-4\n"
     ]
    },
    {
     "name": "stdout",
     "output_type": "stream",
     "text": [
      "Determinant: -1.0\n",
      "Determinant of x: 396.0\n",
      "Determinant of y: 577.0\n",
      "Determinant of z: -225.0\n",
      "Value of x: -396.0\n",
      "Value of y: -577.0\n",
      "Value of z: 225.0\n"
     ]
    }
   ],
   "source": [
    "# ['1','2','3']\n",
    "print(\"Separate each value with a comma (e.g. 1,2,3)\")\n",
    "x = input(\"Enter the coefficients for x: \").split(\",\")\n",
    "y = input(\"Enter the coefficients for y: \").split(\",\")\n",
    "z = input(\"Enter the coefficients for z: \").split(\",\")\n",
    "d = input(\"Enter the constants: \").split(\",\")\n",
    "\n",
    "m = [\n",
    "    [float(i) for i in x],\n",
    "    [float(i) for i in y],\n",
    "    [float(i) for i in z]\n",
    "]\n",
    "\n",
    "d = [float(i) for i in d]\n",
    "\n",
    "m_x = [ \n",
    "    [d[0],-1,1],\n",
    "    [d[1],4,5],\n",
    "    [d[2],-5,3]\n",
    "]\n",
    "\n",
    "m_y = [ \n",
    "    [2,d[0],1],\n",
    "    [-3,d[1],5],\n",
    "    [9,d[2],3]\n",
    "]\n",
    "\n",
    "m_z = [ \n",
    "    [2,-1,d[0]],\n",
    "    [-3,4,d[1]],\n",
    "    [9,-5,d[2]]\n",
    "]\n",
    "\n",
    "matrix_determinant = (m[0][0]*((m[1][1]*m[2][2])-(m[1][2]*m[2][1])))-(m[0][1]*((m[1][0]*m[2][2])-(m[2][0]*m[1][2])))+(m[0][2]*((m[1][0]*m[2][1])-(m[1][1]*m[2][0])))\n",
    "print(f\"Determinant: {matrix_determinant}\")\n",
    "x_determinant = (m_x[0][0]*((m_x[1][1]*m_x[2][2])-(m_x[1][2]*m_x[2][1])))-(m_x[0][1]*((m_x[1][0]*m_x[2][2])-(m_x[2][0]*m_x[1][2])))+(m_x[0][2]*((m_x[1][0]*m_x[2][1])-(m_x[1][1]*m_x[2][0])))\n",
    "y_determinant = (m_y[0][0]*((m_y[1][1]*m_y[2][2])-(m_y[1][2]*m_y[2][1])))-(m_y[0][1]*((m_y[1][0]*m_y[2][2])-(m_y[2][0]*m_y[1][2])))+(m_y[0][2]*((m_y[1][0]*m_y[2][1])-(m_y[1][1]*m_y[2][0])))\n",
    "z_determinant = (m_z[0][0]*((m_z[1][1]*m_z[2][2])-(m_z[1][2]*m_z[2][1])))-(m_z[0][1]*((m_z[1][0]*m_z[2][2])-(m_z[2][0]*m_z[1][2])))+(m_z[0][2]*((m_z[1][0]*m_z[2][1])-(m_z[1][1]*m_z[2][0])))\n",
    "\n",
    "print(f\"Determinant of x: {x_determinant}\")\n",
    "print(f\"Determinant of y: {y_determinant}\")\n",
    "print(f\"Determinant of z: {z_determinant}\")\n",
    "\n",
    "x = x_determinant/matrix_determinant\n",
    "y = y_determinant/matrix_determinant\n",
    "z = z_determinant/matrix_determinant\n",
    "\n",
    "print(f\"Value of x: {x}\")\n",
    "print(f\"Value of y: {y}\")\n",
    "print(f\"Value of z: {z}\")"
   ]
  },
  {
   "cell_type": "code",
   "execution_count": null,
   "id": "67a71d0b-f5db-4bd3-9395-6fb6552dc984",
   "metadata": {},
   "outputs": [],
   "source": []
  }
 ],
 "metadata": {
  "kernelspec": {
   "display_name": "Python 3 (ipykernel)",
   "language": "python",
   "name": "python3"
  },
  "language_info": {
   "codemirror_mode": {
    "name": "ipython",
    "version": 3
   },
   "file_extension": ".py",
   "mimetype": "text/x-python",
   "name": "python",
   "nbconvert_exporter": "python",
   "pygments_lexer": "ipython3",
   "version": "3.11.4"
  }
 },
 "nbformat": 4,
 "nbformat_minor": 5
}
