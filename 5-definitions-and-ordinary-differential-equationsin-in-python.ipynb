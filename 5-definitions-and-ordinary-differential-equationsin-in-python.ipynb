{
 "cells": [
  {
   "cell_type": "code",
   "execution_count": 1,
   "id": "37aa86b6-dbed-4ea2-af61-6e9b377d2993",
   "metadata": {
    "scrolled": true
   },
   "outputs": [
    {
     "name": "stdin",
     "output_type": "stream",
     "text": [
      "Enter first number:  12\n",
      "Enter second number:  8\n",
      "Enter operation (+, -, *, /) +\n"
     ]
    },
    {
     "name": "stdout",
     "output_type": "stream",
     "text": [
      "20.0\n"
     ]
    }
   ],
   "source": [
    "first_number_input = input(\"Enter first number: \")\n",
    "second_number_input = input(\"Enter second number: \")\n",
    "operation = input(\"Enter operation (+, -, *, /)\")\n",
    "\n",
    "def operate_two_numbers(first_number, second_number, operation):\n",
    "    try:\n",
    "        first_number = float(first_number)\n",
    "        second_number = float(second_number)\n",
    "        if operation==\"+\":\n",
    "            return first_number+second_number\n",
    "        elif operation==\"-\":\n",
    "            return first_number-second_number\n",
    "        elif operation==\"*\":\n",
    "            return first_number*second_number\n",
    "        elif operation==\"/\":\n",
    "            return first_number/second_number\n",
    "        else:\n",
    "            return \"Invalid Operation\"\n",
    "    except Exception as e:\n",
    "        return str(e)\n",
    "\n",
    "\n",
    "result = operate_two_numbers(first_number_input, second_number_input, operation)\n",
    "print(result)\n",
    "    "
   ]
  },
  {
   "cell_type": "code",
   "execution_count": null,
   "id": "b33b963e-8e07-4e9b-b2d1-3a0f64448d50",
   "metadata": {},
   "outputs": [],
   "source": [
    "import numpy as np\n",
    "import matplotlib.pyplot as plt\n",
    "from scipy.integrate import odeint\n",
    "\n",
    "def dNdt(N1, t, alpha, beta):\n",
    "    dN1_dt = (alpha*N1)-(beta*N1*)\n",
    "    return dN_dt\n",
    "\n",
    "t = np.linspace(1, 100, 1000)\n",
    "N = 1000\n",
    "\n",
    "decay_constants = {\n",
    "    \"decay_constant_1\": [0.1, \"red\"],\n",
    "    \"decay_constant_2\": [0.3, \"green\"],\n",
    "    \"decay_constant_3\": [0.5, \"blue\"],\n",
    "}\n",
    "\n",
    "plt.figure(figsize=(20,15))\n",
    "for k,v in decay_constants.items():\n",
    "    solution = odeint(dNdt, N, t, (v[0],))\n",
    "    plt.plot(t, solution, label=fr\"$\\lambda = {v[0]}$\", color=v[1])\n",
    "    \n",
    "plt.title(r\"The solution of $\\frac{dN}{dt} = -\\lambda N$\")\n",
    "plt.xlabel(\"Time (t)\", fontsize=20)\n",
    "plt.ylabel(\"Population 👎\", fontsize=20)\n",
    "plt.grid(True)\n",
    "plt.legend(fontsize=\"20\")\n",
    "plt.show()"
   ]
  }
 ],
 "metadata": {
  "kernelspec": {
   "display_name": "Python 3 (ipykernel)",
   "language": "python",
   "name": "python3"
  },
  "language_info": {
   "codemirror_mode": {
    "name": "ipython",
    "version": 3
   },
   "file_extension": ".py",
   "mimetype": "text/x-python",
   "name": "python",
   "nbconvert_exporter": "python",
   "pygments_lexer": "ipython3",
   "version": "3.11.4"
  }
 },
 "nbformat": 4,
 "nbformat_minor": 5
}
